{
 "cells": [
  {
   "cell_type": "markdown",
   "metadata": {},
   "source": [
    "# BIG QUERY"
   ]
  },
  {
   "cell_type": "markdown",
   "metadata": {},
   "source": [
    "## IMPORTS"
   ]
  },
  {
   "cell_type": "code",
   "execution_count": 120,
   "metadata": {
    "collapsed": false,
    "hiddenCell": true
   },
   "outputs": [
    {
     "name": "stdout",
     "output_type": "stream",
     "text": [
      "Requirement already up-to-date: google-cloud-language in /usr/local/lib/python2.7/dist-packages\n",
      "Requirement already up-to-date: google-gax<0.16dev,>=0.15.13 in /usr/local/lib/python2.7/dist-packages (from google-cloud-language)\n",
      "Requirement already up-to-date: google-cloud-core<0.27dev,>=0.26.0 in /usr/local/lib/python2.7/dist-packages (from google-cloud-language)\n",
      "Requirement already up-to-date: googleapis-common-protos[grpc]<2.0dev,>=1.5.2 in /usr/local/lib/python2.7/dist-packages (from google-cloud-language)\n",
      "Requirement already up-to-date: enum34; python_version < \"3.4\" in /usr/local/lib/python2.7/dist-packages (from google-cloud-language)\n",
      "Requirement already up-to-date: requests<3.0dev,>=2.13.0 in /usr/local/lib/python2.7/dist-packages (from google-gax<0.16dev,>=0.15.13->google-cloud-language)\n",
      "Requirement already up-to-date: dill<0.3dev,>=0.2.5 in /usr/local/lib/python2.7/dist-packages (from google-gax<0.16dev,>=0.15.13->google-cloud-language)\n",
      "Requirement already up-to-date: ply==3.8 in /usr/local/lib/python2.7/dist-packages (from google-gax<0.16dev,>=0.15.13->google-cloud-language)\n",
      "Requirement already up-to-date: google-auth<2.0dev,>=1.0.0 in /usr/local/lib/python2.7/dist-packages (from google-gax<0.16dev,>=0.15.13->google-cloud-language)\n",
      "Requirement already up-to-date: future<0.17dev,>=0.16.0 in /usr/local/lib/python2.7/dist-packages (from google-gax<0.16dev,>=0.15.13->google-cloud-language)\n",
      "Requirement already up-to-date: grpcio<2.0dev,>=1.0.2 in /usr/local/lib/python2.7/dist-packages (from google-gax<0.16dev,>=0.15.13->google-cloud-language)\n",
      "Requirement already up-to-date: protobuf<4.0dev,>=3.0.0 in /usr/local/lib/python2.7/dist-packages (from google-gax<0.16dev,>=0.15.13->google-cloud-language)\n",
      "Requirement already up-to-date: tenacity<5.0.0dev,>=4.0.0 in /usr/local/lib/python2.7/dist-packages (from google-cloud-core<0.27dev,>=0.26.0->google-cloud-language)\n",
      "Requirement already up-to-date: six in /usr/local/lib/python2.7/dist-packages (from google-cloud-core<0.27dev,>=0.26.0->google-cloud-language)\n",
      "Requirement already up-to-date: idna<2.7,>=2.5 in /usr/local/lib/python2.7/dist-packages (from requests<3.0dev,>=2.13.0->google-gax<0.16dev,>=0.15.13->google-cloud-language)\n",
      "Requirement already up-to-date: urllib3<1.23,>=1.21.1 in /usr/local/lib/python2.7/dist-packages (from requests<3.0dev,>=2.13.0->google-gax<0.16dev,>=0.15.13->google-cloud-language)\n",
      "Requirement already up-to-date: certifi>=2017.4.17 in /usr/local/lib/python2.7/dist-packages (from requests<3.0dev,>=2.13.0->google-gax<0.16dev,>=0.15.13->google-cloud-language)\n",
      "Requirement already up-to-date: chardet<3.1.0,>=3.0.2 in /usr/local/lib/python2.7/dist-packages (from requests<3.0dev,>=2.13.0->google-gax<0.16dev,>=0.15.13->google-cloud-language)\n",
      "Requirement already up-to-date: cachetools>=2.0.0 in /usr/local/lib/python2.7/dist-packages (from google-auth<2.0dev,>=1.0.0->google-gax<0.16dev,>=0.15.13->google-cloud-language)\n",
      "Requirement already up-to-date: pyasn1>=0.1.7 in /usr/local/lib/python2.7/dist-packages (from google-auth<2.0dev,>=1.0.0->google-gax<0.16dev,>=0.15.13->google-cloud-language)\n",
      "Requirement already up-to-date: pyasn1-modules>=0.0.5 in /usr/local/lib/python2.7/dist-packages (from google-auth<2.0dev,>=1.0.0->google-gax<0.16dev,>=0.15.13->google-cloud-language)\n",
      "Requirement already up-to-date: rsa>=3.1.4 in /usr/local/lib/python2.7/dist-packages (from google-auth<2.0dev,>=1.0.0->google-gax<0.16dev,>=0.15.13->google-cloud-language)\n",
      "Requirement already up-to-date: futures>=2.2.0 in /usr/local/lib/python2.7/dist-packages (from grpcio<2.0dev,>=1.0.2->google-gax<0.16dev,>=0.15.13->google-cloud-language)\n",
      "Requirement already up-to-date: setuptools in /usr/local/lib/python2.7/dist-packages (from protobuf<4.0dev,>=3.0.0->google-gax<0.16dev,>=0.15.13->google-cloud-language)\n",
      "Requirement already up-to-date: monotonic>=0.6 in /usr/local/lib/python2.7/dist-packages (from tenacity<5.0.0dev,>=4.0.0->google-cloud-core<0.27dev,>=0.26.0->google-cloud-language)\n"
     ]
    }
   ],
   "source": [
    "!pip install --upgrade google-cloud-language"
   ]
  },
  {
   "cell_type": "code",
   "execution_count": 123,
   "metadata": {
    "collapsed": true
   },
   "outputs": [],
   "source": [
    "import pandas as pd\n",
    "from pandas.tools.plotting import autocorrelation_plot\n",
    "from pandas.tools.plotting import scatter_matrix\n",
    "\n",
    "import numpy as np\n",
    "\n",
    "import matplotlib.pyplot as plt\n",
    "\n",
    "import google.datalab.bigquery as bq\n",
    "\n",
    "import tensorflow as tf\n",
    "\n",
    "import random\n",
    "\n",
    "# in order to print images in notebook\n",
    "from IPython.display import Image\n",
    "from IPython.core.display import HTML"
   ]
  },
  {
   "cell_type": "markdown",
   "metadata": {},
   "source": [
    "## Get the data"
   ]
  },
  {
   "cell_type": "markdown",
   "metadata": {},
   "source": [
    "We retrieve data from a Big Query table and put it in a panda frame."
   ]
  },
  {
   "cell_type": "code",
   "execution_count": 124,
   "metadata": {
    "collapsed": false
   },
   "outputs": [],
   "source": [
    "# retrieve data from the Game of Thrones tweets in Big Query\n",
    "# takes a long time be careful\n",
    "got = bq.Query.from_table(bq.Table('Series.GOT'), fields=['Text','Language']).execute().result().to_dataframe() #.set_index('Date') to set an index from the rows"
   ]
  },
  {
   "cell_type": "code",
   "execution_count": 126,
   "metadata": {
    "collapsed": true
   },
   "outputs": [],
   "source": [
    "# we only keep english tweets and remove duplicates (to have less chance of encountering a \"RT\")\n",
    "got_eng = got[got['Language']==\"en\"].drop_duplicates()\n",
    "# remove these rows for good\n",
    "got_eng = got_eng.dropna(axis=0, how='any')"
   ]
  },
  {
   "cell_type": "code",
   "execution_count": 127,
   "metadata": {
    "collapsed": false
   },
   "outputs": [],
   "source": [
    "# retrieve data from the Met Table in Big Query (public dataset)\n",
    "# takes a long time be careful\n",
    "met = bq.Query('SELECT a.object_id, b.description, b.score FROM `bigquery-public-data.the_met.vision_api_data` as a, unnest(labelAnnotations) as b').execute().result().to_dataframe() #.set_index('object_id') #to set an index from the rows"
   ]
  },
  {
   "cell_type": "code",
   "execution_count": 125,
   "metadata": {
    "collapsed": false
   },
   "outputs": [
    {
     "data": {
      "text/html": [
       "<div>\n",
       "<table border=\"1\" class=\"dataframe\">\n",
       "  <thead>\n",
       "    <tr style=\"text-align: right;\">\n",
       "      <th></th>\n",
       "      <th>Text</th>\n",
       "      <th>Language</th>\n",
       "    </tr>\n",
       "  </thead>\n",
       "  <tbody>\n",
       "    <tr>\n",
       "      <th>count</th>\n",
       "      <td>1920830</td>\n",
       "      <td>1920830</td>\n",
       "    </tr>\n",
       "    <tr>\n",
       "      <th>unique</th>\n",
       "      <td>1016194</td>\n",
       "      <td>57</td>\n",
       "    </tr>\n",
       "    <tr>\n",
       "      <th>top</th>\n",
       "      <td>RT @Kreyz_: Rt si tu le vis bien. https://t.co...</td>\n",
       "      <td>en</td>\n",
       "    </tr>\n",
       "    <tr>\n",
       "      <th>freq</th>\n",
       "      <td>31573</td>\n",
       "      <td>1343756</td>\n",
       "    </tr>\n",
       "  </tbody>\n",
       "</table>\n",
       "</div>"
      ],
      "text/plain": [
       "                                                     Text Language\n",
       "count                                             1920830  1920830\n",
       "unique                                            1016194       57\n",
       "top     RT @Kreyz_: Rt si tu le vis bien. https://t.co...       en\n",
       "freq                                                31573  1343756"
      ]
     },
     "execution_count": 125,
     "metadata": {},
     "output_type": "execute_result"
    }
   ],
   "source": [
    "# quick description of the table\n",
    "got.describe()"
   ]
  },
  {
   "cell_type": "code",
   "execution_count": 129,
   "metadata": {
    "collapsed": false
   },
   "outputs": [
    {
     "data": {
      "text/html": [
       "<div>\n",
       "<table border=\"1\" class=\"dataframe\">\n",
       "  <thead>\n",
       "    <tr style=\"text-align: right;\">\n",
       "      <th></th>\n",
       "      <th>Text</th>\n",
       "      <th>Language</th>\n",
       "    </tr>\n",
       "  </thead>\n",
       "  <tbody>\n",
       "    <tr>\n",
       "      <th>count</th>\n",
       "      <td>724936</td>\n",
       "      <td>724936</td>\n",
       "    </tr>\n",
       "    <tr>\n",
       "      <th>unique</th>\n",
       "      <td>724936</td>\n",
       "      <td>1</td>\n",
       "    </tr>\n",
       "    <tr>\n",
       "      <th>top</th>\n",
       "      <td>Game of thrones has to be the best show on tv ...</td>\n",
       "      <td>en</td>\n",
       "    </tr>\n",
       "    <tr>\n",
       "      <th>freq</th>\n",
       "      <td>1</td>\n",
       "      <td>724936</td>\n",
       "    </tr>\n",
       "  </tbody>\n",
       "</table>\n",
       "</div>"
      ],
      "text/plain": [
       "                                                     Text Language\n",
       "count                                              724936   724936\n",
       "unique                                             724936        1\n",
       "top     Game of thrones has to be the best show on tv ...       en\n",
       "freq                                                    1   724936"
      ]
     },
     "execution_count": 129,
     "metadata": {},
     "output_type": "execute_result"
    }
   ],
   "source": [
    "# quick description of the table\n",
    "got_eng.describe()"
   ]
  },
  {
   "cell_type": "code",
   "execution_count": 130,
   "metadata": {
    "collapsed": false
   },
   "outputs": [
    {
     "data": {
      "text/plain": [
       "'Game Of Thrones fanatikleri buraya https://t.co/oxG5J5LLJC'"
      ]
     },
     "execution_count": 130,
     "metadata": {},
     "output_type": "execute_result"
    }
   ],
   "source": [
    "got[\"Text\"][1796586]"
   ]
  },
  {
   "cell_type": "code",
   "execution_count": 131,
   "metadata": {
    "collapsed": false
   },
   "outputs": [
    {
     "data": {
      "text/html": [
       "<div>\n",
       "<table border=\"1\" class=\"dataframe\">\n",
       "  <thead>\n",
       "    <tr style=\"text-align: right;\">\n",
       "      <th></th>\n",
       "      <th>object_id</th>\n",
       "      <th>score</th>\n",
       "    </tr>\n",
       "  </thead>\n",
       "  <tbody>\n",
       "    <tr>\n",
       "      <th>count</th>\n",
       "      <td>935276.000000</td>\n",
       "      <td>935276.000000</td>\n",
       "    </tr>\n",
       "    <tr>\n",
       "      <th>mean</th>\n",
       "      <td>283209.129009</td>\n",
       "      <td>0.711613</td>\n",
       "    </tr>\n",
       "    <tr>\n",
       "      <th>std</th>\n",
       "      <td>187267.527939</td>\n",
       "      <td>0.119919</td>\n",
       "    </tr>\n",
       "    <tr>\n",
       "      <th>min</th>\n",
       "      <td>33.000000</td>\n",
       "      <td>0.500001</td>\n",
       "    </tr>\n",
       "    <tr>\n",
       "      <th>25%</th>\n",
       "      <td>103065.000000</td>\n",
       "      <td>0.619591</td>\n",
       "    </tr>\n",
       "    <tr>\n",
       "      <th>50%</th>\n",
       "      <td>261891.500000</td>\n",
       "      <td>0.696712</td>\n",
       "    </tr>\n",
       "    <tr>\n",
       "      <th>75%</th>\n",
       "      <td>421758.000000</td>\n",
       "      <td>0.792783</td>\n",
       "    </tr>\n",
       "    <tr>\n",
       "      <th>max</th>\n",
       "      <td>746939.000000</td>\n",
       "      <td>0.993372</td>\n",
       "    </tr>\n",
       "  </tbody>\n",
       "</table>\n",
       "</div>"
      ],
      "text/plain": [
       "           object_id          score\n",
       "count  935276.000000  935276.000000\n",
       "mean   283209.129009       0.711613\n",
       "std    187267.527939       0.119919\n",
       "min        33.000000       0.500001\n",
       "25%    103065.000000       0.619591\n",
       "50%    261891.500000       0.696712\n",
       "75%    421758.000000       0.792783\n",
       "max    746939.000000       0.993372"
      ]
     },
     "execution_count": 131,
     "metadata": {},
     "output_type": "execute_result"
    }
   ],
   "source": [
    "met.describe()"
   ]
  },
  {
   "cell_type": "code",
   "execution_count": 132,
   "metadata": {
    "codeCollapsed": false,
    "collapsed": false,
    "hiddenCell": false
   },
   "outputs": [
    {
     "data": {
      "text/html": [
       "<div>\n",
       "<table border=\"1\" class=\"dataframe\">\n",
       "  <thead>\n",
       "    <tr style=\"text-align: right;\">\n",
       "      <th></th>\n",
       "      <th>object_id</th>\n",
       "      <th>description</th>\n",
       "      <th>score</th>\n",
       "    </tr>\n",
       "  </thead>\n",
       "  <tbody>\n",
       "    <tr>\n",
       "      <th>0</th>\n",
       "      <td>33644</td>\n",
       "      <td>weapon</td>\n",
       "      <td>0.843683</td>\n",
       "    </tr>\n",
       "    <tr>\n",
       "      <th>1</th>\n",
       "      <td>33644</td>\n",
       "      <td>product</td>\n",
       "      <td>0.780845</td>\n",
       "    </tr>\n",
       "    <tr>\n",
       "      <th>2</th>\n",
       "      <td>33644</td>\n",
       "      <td>dagger</td>\n",
       "      <td>0.519575</td>\n",
       "    </tr>\n",
       "    <tr>\n",
       "      <th>3</th>\n",
       "      <td>363331</td>\n",
       "      <td>sketch</td>\n",
       "      <td>0.757690</td>\n",
       "    </tr>\n",
       "    <tr>\n",
       "      <th>4</th>\n",
       "      <td>363331</td>\n",
       "      <td>drawing</td>\n",
       "      <td>0.719121</td>\n",
       "    </tr>\n",
       "    <tr>\n",
       "      <th>5</th>\n",
       "      <td>363331</td>\n",
       "      <td>relief</td>\n",
       "      <td>0.540961</td>\n",
       "    </tr>\n",
       "    <tr>\n",
       "      <th>6</th>\n",
       "      <td>14630</td>\n",
       "      <td>picture frame</td>\n",
       "      <td>0.737246</td>\n",
       "    </tr>\n",
       "    <tr>\n",
       "      <th>7</th>\n",
       "      <td>14630</td>\n",
       "      <td>rectangle</td>\n",
       "      <td>0.534322</td>\n",
       "    </tr>\n",
       "    <tr>\n",
       "      <th>8</th>\n",
       "      <td>14630</td>\n",
       "      <td>material</td>\n",
       "      <td>0.531604</td>\n",
       "    </tr>\n",
       "    <tr>\n",
       "      <th>9</th>\n",
       "      <td>263204</td>\n",
       "      <td>circle</td>\n",
       "      <td>0.678314</td>\n",
       "    </tr>\n",
       "    <tr>\n",
       "      <th>10</th>\n",
       "      <td>263204</td>\n",
       "      <td>lighting</td>\n",
       "      <td>0.649798</td>\n",
       "    </tr>\n",
       "    <tr>\n",
       "      <th>11</th>\n",
       "      <td>263204</td>\n",
       "      <td>shape</td>\n",
       "      <td>0.605284</td>\n",
       "    </tr>\n",
       "    <tr>\n",
       "      <th>12</th>\n",
       "      <td>256040</td>\n",
       "      <td>green</td>\n",
       "      <td>0.924112</td>\n",
       "    </tr>\n",
       "    <tr>\n",
       "      <th>13</th>\n",
       "      <td>256040</td>\n",
       "      <td>circle</td>\n",
       "      <td>0.670430</td>\n",
       "    </tr>\n",
       "    <tr>\n",
       "      <th>14</th>\n",
       "      <td>256040</td>\n",
       "      <td>spiral</td>\n",
       "      <td>0.629578</td>\n",
       "    </tr>\n",
       "    <tr>\n",
       "      <th>15</th>\n",
       "      <td>256040</td>\n",
       "      <td>dishware</td>\n",
       "      <td>0.538543</td>\n",
       "    </tr>\n",
       "    <tr>\n",
       "      <th>16</th>\n",
       "      <td>52456</td>\n",
       "      <td>black and white</td>\n",
       "      <td>0.920280</td>\n",
       "    </tr>\n",
       "    <tr>\n",
       "      <th>17</th>\n",
       "      <td>52456</td>\n",
       "      <td>blue and white porcelain</td>\n",
       "      <td>0.708494</td>\n",
       "    </tr>\n",
       "    <tr>\n",
       "      <th>18</th>\n",
       "      <td>52456</td>\n",
       "      <td>monochrome photography</td>\n",
       "      <td>0.688066</td>\n",
       "    </tr>\n",
       "    <tr>\n",
       "      <th>19</th>\n",
       "      <td>52456</td>\n",
       "      <td>monochrome</td>\n",
       "      <td>0.659130</td>\n",
       "    </tr>\n",
       "    <tr>\n",
       "      <th>20</th>\n",
       "      <td>52456</td>\n",
       "      <td>drawing</td>\n",
       "      <td>0.622525</td>\n",
       "    </tr>\n",
       "    <tr>\n",
       "      <th>21</th>\n",
       "      <td>76974</td>\n",
       "      <td>green</td>\n",
       "      <td>0.855991</td>\n",
       "    </tr>\n",
       "    <tr>\n",
       "      <th>22</th>\n",
       "      <td>76974</td>\n",
       "      <td>army men</td>\n",
       "      <td>0.747405</td>\n",
       "    </tr>\n",
       "    <tr>\n",
       "      <th>23</th>\n",
       "      <td>76974</td>\n",
       "      <td>sculpture</td>\n",
       "      <td>0.674821</td>\n",
       "    </tr>\n",
       "    <tr>\n",
       "      <th>24</th>\n",
       "      <td>76974</td>\n",
       "      <td>art</td>\n",
       "      <td>0.663452</td>\n",
       "    </tr>\n",
       "    <tr>\n",
       "      <th>25</th>\n",
       "      <td>76974</td>\n",
       "      <td>furniture</td>\n",
       "      <td>0.644906</td>\n",
       "    </tr>\n",
       "    <tr>\n",
       "      <th>26</th>\n",
       "      <td>46955</td>\n",
       "      <td>vase</td>\n",
       "      <td>0.921962</td>\n",
       "    </tr>\n",
       "    <tr>\n",
       "      <th>27</th>\n",
       "      <td>46955</td>\n",
       "      <td>green</td>\n",
       "      <td>0.857920</td>\n",
       "    </tr>\n",
       "    <tr>\n",
       "      <th>28</th>\n",
       "      <td>46955</td>\n",
       "      <td>bowling pin</td>\n",
       "      <td>0.736021</td>\n",
       "    </tr>\n",
       "    <tr>\n",
       "      <th>29</th>\n",
       "      <td>46955</td>\n",
       "      <td>ceramic</td>\n",
       "      <td>0.699217</td>\n",
       "    </tr>\n",
       "    <tr>\n",
       "      <th>...</th>\n",
       "      <td>...</td>\n",
       "      <td>...</td>\n",
       "      <td>...</td>\n",
       "    </tr>\n",
       "    <tr>\n",
       "      <th>935246</th>\n",
       "      <td>283176</td>\n",
       "      <td>photograph</td>\n",
       "      <td>0.935095</td>\n",
       "    </tr>\n",
       "    <tr>\n",
       "      <th>935247</th>\n",
       "      <td>283176</td>\n",
       "      <td>image</td>\n",
       "      <td>0.901626</td>\n",
       "    </tr>\n",
       "    <tr>\n",
       "      <th>935248</th>\n",
       "      <td>283176</td>\n",
       "      <td>painting</td>\n",
       "      <td>0.881710</td>\n",
       "    </tr>\n",
       "    <tr>\n",
       "      <th>935249</th>\n",
       "      <td>283176</td>\n",
       "      <td>art</td>\n",
       "      <td>0.685077</td>\n",
       "    </tr>\n",
       "    <tr>\n",
       "      <th>935250</th>\n",
       "      <td>283176</td>\n",
       "      <td>musical theatre</td>\n",
       "      <td>0.597613</td>\n",
       "    </tr>\n",
       "    <tr>\n",
       "      <th>935251</th>\n",
       "      <td>442183</td>\n",
       "      <td>image</td>\n",
       "      <td>0.902066</td>\n",
       "    </tr>\n",
       "    <tr>\n",
       "      <th>935252</th>\n",
       "      <td>442183</td>\n",
       "      <td>painting</td>\n",
       "      <td>0.877129</td>\n",
       "    </tr>\n",
       "    <tr>\n",
       "      <th>935253</th>\n",
       "      <td>442183</td>\n",
       "      <td>art</td>\n",
       "      <td>0.662710</td>\n",
       "    </tr>\n",
       "    <tr>\n",
       "      <th>935254</th>\n",
       "      <td>442183</td>\n",
       "      <td>temple</td>\n",
       "      <td>0.562818</td>\n",
       "    </tr>\n",
       "    <tr>\n",
       "      <th>935255</th>\n",
       "      <td>442183</td>\n",
       "      <td>ancient history</td>\n",
       "      <td>0.552746</td>\n",
       "    </tr>\n",
       "    <tr>\n",
       "      <th>935256</th>\n",
       "      <td>436885</td>\n",
       "      <td>painting</td>\n",
       "      <td>0.913811</td>\n",
       "    </tr>\n",
       "    <tr>\n",
       "      <th>935257</th>\n",
       "      <td>436885</td>\n",
       "      <td>modern art</td>\n",
       "      <td>0.816417</td>\n",
       "    </tr>\n",
       "    <tr>\n",
       "      <th>935258</th>\n",
       "      <td>436885</td>\n",
       "      <td>art</td>\n",
       "      <td>0.760840</td>\n",
       "    </tr>\n",
       "    <tr>\n",
       "      <th>935259</th>\n",
       "      <td>436885</td>\n",
       "      <td>ancient history</td>\n",
       "      <td>0.759777</td>\n",
       "    </tr>\n",
       "    <tr>\n",
       "      <th>935260</th>\n",
       "      <td>436885</td>\n",
       "      <td>middle ages</td>\n",
       "      <td>0.645703</td>\n",
       "    </tr>\n",
       "    <tr>\n",
       "      <th>935261</th>\n",
       "      <td>436927</td>\n",
       "      <td>photograph</td>\n",
       "      <td>0.935644</td>\n",
       "    </tr>\n",
       "    <tr>\n",
       "      <th>935262</th>\n",
       "      <td>436927</td>\n",
       "      <td>black and white</td>\n",
       "      <td>0.919958</td>\n",
       "    </tr>\n",
       "    <tr>\n",
       "      <th>935263</th>\n",
       "      <td>436927</td>\n",
       "      <td>people</td>\n",
       "      <td>0.905770</td>\n",
       "    </tr>\n",
       "    <tr>\n",
       "      <th>935264</th>\n",
       "      <td>436927</td>\n",
       "      <td>image</td>\n",
       "      <td>0.902940</td>\n",
       "    </tr>\n",
       "    <tr>\n",
       "      <th>935265</th>\n",
       "      <td>436927</td>\n",
       "      <td>ancient history</td>\n",
       "      <td>0.763157</td>\n",
       "    </tr>\n",
       "    <tr>\n",
       "      <th>935266</th>\n",
       "      <td>437525</td>\n",
       "      <td>painting</td>\n",
       "      <td>0.883032</td>\n",
       "    </tr>\n",
       "    <tr>\n",
       "      <th>935267</th>\n",
       "      <td>437525</td>\n",
       "      <td>mythology</td>\n",
       "      <td>0.763806</td>\n",
       "    </tr>\n",
       "    <tr>\n",
       "      <th>935268</th>\n",
       "      <td>437525</td>\n",
       "      <td>art</td>\n",
       "      <td>0.704307</td>\n",
       "    </tr>\n",
       "    <tr>\n",
       "      <th>935269</th>\n",
       "      <td>437525</td>\n",
       "      <td>nativity scene</td>\n",
       "      <td>0.565195</td>\n",
       "    </tr>\n",
       "    <tr>\n",
       "      <th>935270</th>\n",
       "      <td>437525</td>\n",
       "      <td>ancient history</td>\n",
       "      <td>0.548226</td>\n",
       "    </tr>\n",
       "    <tr>\n",
       "      <th>935271</th>\n",
       "      <td>435900</td>\n",
       "      <td>painting</td>\n",
       "      <td>0.944320</td>\n",
       "    </tr>\n",
       "    <tr>\n",
       "      <th>935272</th>\n",
       "      <td>435900</td>\n",
       "      <td>modern art</td>\n",
       "      <td>0.703799</td>\n",
       "    </tr>\n",
       "    <tr>\n",
       "      <th>935273</th>\n",
       "      <td>435900</td>\n",
       "      <td>art</td>\n",
       "      <td>0.701629</td>\n",
       "    </tr>\n",
       "    <tr>\n",
       "      <th>935274</th>\n",
       "      <td>435900</td>\n",
       "      <td>mythology</td>\n",
       "      <td>0.605626</td>\n",
       "    </tr>\n",
       "    <tr>\n",
       "      <th>935275</th>\n",
       "      <td>435900</td>\n",
       "      <td>mural</td>\n",
       "      <td>0.599542</td>\n",
       "    </tr>\n",
       "  </tbody>\n",
       "</table>\n",
       "<p>935276 rows × 3 columns</p>\n",
       "</div>"
      ],
      "text/plain": [
       "        object_id               description     score\n",
       "0           33644                    weapon  0.843683\n",
       "1           33644                   product  0.780845\n",
       "2           33644                    dagger  0.519575\n",
       "3          363331                    sketch  0.757690\n",
       "4          363331                   drawing  0.719121\n",
       "5          363331                    relief  0.540961\n",
       "6           14630             picture frame  0.737246\n",
       "7           14630                 rectangle  0.534322\n",
       "8           14630                  material  0.531604\n",
       "9          263204                    circle  0.678314\n",
       "10         263204                  lighting  0.649798\n",
       "11         263204                     shape  0.605284\n",
       "12         256040                     green  0.924112\n",
       "13         256040                    circle  0.670430\n",
       "14         256040                    spiral  0.629578\n",
       "15         256040                  dishware  0.538543\n",
       "16          52456           black and white  0.920280\n",
       "17          52456  blue and white porcelain  0.708494\n",
       "18          52456    monochrome photography  0.688066\n",
       "19          52456                monochrome  0.659130\n",
       "20          52456                   drawing  0.622525\n",
       "21          76974                     green  0.855991\n",
       "22          76974                  army men  0.747405\n",
       "23          76974                 sculpture  0.674821\n",
       "24          76974                       art  0.663452\n",
       "25          76974                 furniture  0.644906\n",
       "26          46955                      vase  0.921962\n",
       "27          46955                     green  0.857920\n",
       "28          46955               bowling pin  0.736021\n",
       "29          46955                   ceramic  0.699217\n",
       "...           ...                       ...       ...\n",
       "935246     283176                photograph  0.935095\n",
       "935247     283176                     image  0.901626\n",
       "935248     283176                  painting  0.881710\n",
       "935249     283176                       art  0.685077\n",
       "935250     283176           musical theatre  0.597613\n",
       "935251     442183                     image  0.902066\n",
       "935252     442183                  painting  0.877129\n",
       "935253     442183                       art  0.662710\n",
       "935254     442183                    temple  0.562818\n",
       "935255     442183           ancient history  0.552746\n",
       "935256     436885                  painting  0.913811\n",
       "935257     436885                modern art  0.816417\n",
       "935258     436885                       art  0.760840\n",
       "935259     436885           ancient history  0.759777\n",
       "935260     436885               middle ages  0.645703\n",
       "935261     436927                photograph  0.935644\n",
       "935262     436927           black and white  0.919958\n",
       "935263     436927                    people  0.905770\n",
       "935264     436927                     image  0.902940\n",
       "935265     436927           ancient history  0.763157\n",
       "935266     437525                  painting  0.883032\n",
       "935267     437525                 mythology  0.763806\n",
       "935268     437525                       art  0.704307\n",
       "935269     437525            nativity scene  0.565195\n",
       "935270     437525           ancient history  0.548226\n",
       "935271     435900                  painting  0.944320\n",
       "935272     435900                modern art  0.703799\n",
       "935273     435900                       art  0.701629\n",
       "935274     435900                 mythology  0.605626\n",
       "935275     435900                     mural  0.599542\n",
       "\n",
       "[935276 rows x 3 columns]"
      ]
     },
     "execution_count": 132,
     "metadata": {},
     "output_type": "execute_result"
    }
   ],
   "source": [
    "met"
   ]
  },
  {
   "cell_type": "markdown",
   "metadata": {},
   "source": [
    "## Extract entities from a tweet via the Cloud Natural Language API"
   ]
  },
  {
   "cell_type": "code",
   "execution_count": 346,
   "metadata": {
    "collapsed": false
   },
   "outputs": [],
   "source": [
    "def extract_entities(text):\n",
    "    # [START language_quickstart]\n",
    "    # Imports the Google Cloud client library\n",
    "    # [START migration_import]\n",
    "    from google.cloud import language\n",
    "    #from google.cloud.language import enums\n",
    "    #from google.cloud.language import types\n",
    "    # [END migration_import]\n",
    "\n",
    "    # Instantiates a client\n",
    "    # [START migration_client]\n",
    "    client = language.Client()\n",
    "    # [END migration_client]\n",
    "    document = client.document_from_text(content=text)\n",
    "\n",
    "    # analyze the feeling of the text\n",
    "    sentiment = document.analyze_sentiment()\n",
    "    print text\n",
    "    print('Score: {}'.format(sentiment.sentiment.score))\n",
    "    print('Magnitude: {}'.format(sentiment.sentiment.magnitude))\n",
    "    \n",
    "    \n",
    "    # extract the entities from the text\n",
    "    entities = document.analyze_entities().entities\n",
    "    \n",
    "    for ent in entities:\n",
    "      print('Name: {}'.format(ent.name))\n",
    "      print('Salience: {}'.format(ent.salience))\n",
    "    \n",
    "    return entities, sentiment"
   ]
  },
  {
   "cell_type": "code",
   "execution_count": 218,
   "metadata": {
    "collapsed": false
   },
   "outputs": [
    {
     "name": "stdout",
     "output_type": "stream",
     "text": [
      "Imagine staying with Game of Thrones this long just so you could tweet \"um actually the show this bad\" when they finally do a great episode 139\n"
     ]
    }
   ],
   "source": [
    "for i in got_eng.sample()[\"Text\"]:\n",
    "    print i, len(i)"
   ]
  },
  {
   "cell_type": "code",
   "execution_count": 343,
   "metadata": {
    "collapsed": true
   },
   "outputs": [],
   "source": [
    "def extract_image(word):\n",
    "    query = 'SELECT a.object_id, b.description, b.score FROM `bigquery-public-data.the_met.vision_api_data` as a, unnest(labelAnnotations) as b where REGEXP_CONTAINS(b.description, r\\'^'+word+'$\\') order by 3 desc'\n",
    "    match = bq.Query(query).execute().result()#.to_dataframe() #.set_index('object_id') #to set an index from the rows\n",
    "    if match.length>0:\n",
    "        res = match.to_dataframe()\n",
    "        print \"Found \"+str(len(res))+\" results matching with word : \" + word\n",
    "    else:\n",
    "        res = 1\n",
    "        print \"No matching found for word : \" + word\n",
    "    return res"
   ]
  },
  {
   "cell_type": "code",
   "execution_count": 377,
   "metadata": {
    "collapsed": false
   },
   "outputs": [
    {
     "name": "stdout",
     "output_type": "stream",
     "text": [
      "Earned 1 PSN trophy (1 silver) in Game of Thrones - https://t.co/QOY2DA7S8d\n",
      "Score: 0.3\n",
      "Magnitude: 0.3\n",
      "Name: trophy\n",
      "Salience: 0.5111663\n",
      "Name: PSN\n",
      "Salience: 0.3259483\n",
      "Name: Game of Thrones\n",
      "Salience: 0.16288543\n"
     ]
    }
   ],
   "source": [
    "for t in got_eng.sample()[\"Text\"]:\n",
    "    tweet = t\n",
    "#tweet = \"I love Sansa's dress in the last episode of Game of Thrones\"\n",
    "#tweet = \"Earned 1 PSN trophy (1 silver) in Game of Thrones - https://t.co/QOY2DA7S8d\"\n",
    "entities, sentiment = extract_entities(tweet)"
   ]
  },
  {
   "cell_type": "markdown",
   "metadata": {},
   "source": [
    "## Match a tweet to an image"
   ]
  },
  {
   "cell_type": "code",
   "execution_count": 378,
   "metadata": {
    "collapsed": false
   },
   "outputs": [
    {
     "name": "stdout",
     "output_type": "stream",
     "text": [
      "Found 452 results matching with word : trophy\n"
     ]
    }
   ],
   "source": [
    "for ent in entities:\n",
    "    res = extract_image(ent.name)\n",
    "    # if there was a match for the word\n",
    "    if type(res) != type(1):\n",
    "        break\n",
    "        \n",
    "# if none of the words match\n",
    "if type(res) == type(1):\n",
    "    # negative sentiment\n",
    "    if sentiment.sentiment.score < -0.6:\n",
    "        res = extract_image(\"red\")\n",
    "    # positive sentiment\n",
    "    elif sentiment.sentiment.score > 0.6:\n",
    "        res = extract_image(\"green\")\n",
    "    else:\n",
    "        res = extract_image(\"white\")"
   ]
  },
  {
   "cell_type": "code",
   "execution_count": 303,
   "metadata": {
    "collapsed": false
   },
   "outputs": [
    {
     "data": {
      "text/html": [
       "<div>\n",
       "<table border=\"1\" class=\"dataframe\">\n",
       "  <thead>\n",
       "    <tr style=\"text-align: right;\">\n",
       "      <th></th>\n",
       "      <th>object_id</th>\n",
       "      <th>description</th>\n",
       "      <th>score</th>\n",
       "    </tr>\n",
       "  </thead>\n",
       "  <tbody>\n",
       "    <tr>\n",
       "      <th>0</th>\n",
       "      <td>322608</td>\n",
       "      <td>museum</td>\n",
       "      <td>0.815490</td>\n",
       "    </tr>\n",
       "    <tr>\n",
       "      <th>1</th>\n",
       "      <td>549495</td>\n",
       "      <td>museum</td>\n",
       "      <td>0.747989</td>\n",
       "    </tr>\n",
       "    <tr>\n",
       "      <th>2</th>\n",
       "      <td>466313</td>\n",
       "      <td>museum</td>\n",
       "      <td>0.712616</td>\n",
       "    </tr>\n",
       "    <tr>\n",
       "      <th>3</th>\n",
       "      <td>35928</td>\n",
       "      <td>museum</td>\n",
       "      <td>0.711160</td>\n",
       "    </tr>\n",
       "    <tr>\n",
       "      <th>4</th>\n",
       "      <td>549493</td>\n",
       "      <td>museum</td>\n",
       "      <td>0.702548</td>\n",
       "    </tr>\n",
       "    <tr>\n",
       "      <th>5</th>\n",
       "      <td>21926</td>\n",
       "      <td>museum</td>\n",
       "      <td>0.672080</td>\n",
       "    </tr>\n",
       "    <tr>\n",
       "      <th>6</th>\n",
       "      <td>49119</td>\n",
       "      <td>museum</td>\n",
       "      <td>0.639597</td>\n",
       "    </tr>\n",
       "    <tr>\n",
       "      <th>7</th>\n",
       "      <td>543937</td>\n",
       "      <td>museum</td>\n",
       "      <td>0.631614</td>\n",
       "    </tr>\n",
       "    <tr>\n",
       "      <th>8</th>\n",
       "      <td>590946</td>\n",
       "      <td>museum</td>\n",
       "      <td>0.611085</td>\n",
       "    </tr>\n",
       "    <tr>\n",
       "      <th>9</th>\n",
       "      <td>438024</td>\n",
       "      <td>museum</td>\n",
       "      <td>0.586542</td>\n",
       "    </tr>\n",
       "  </tbody>\n",
       "</table>\n",
       "</div>"
      ],
      "text/plain": [
       "   object_id description     score\n",
       "0     322608      museum  0.815490\n",
       "1     549495      museum  0.747989\n",
       "2     466313      museum  0.712616\n",
       "3      35928      museum  0.711160\n",
       "4     549493      museum  0.702548\n",
       "5      21926      museum  0.672080\n",
       "6      49119      museum  0.639597\n",
       "7     543937      museum  0.631614\n",
       "8     590946      museum  0.611085\n",
       "9     438024      museum  0.586542"
      ]
     },
     "execution_count": 303,
     "metadata": {},
     "output_type": "execute_result"
    }
   ],
   "source": [
    "res"
   ]
  },
  {
   "cell_type": "markdown",
   "metadata": {},
   "source": [
    "## Display the associated image"
   ]
  },
  {
   "cell_type": "code",
   "execution_count": 379,
   "metadata": {
    "collapsed": false
   },
   "outputs": [
    {
     "data": {
      "text/html": [
       "<img src=\"http://images.metmuseum.org/CRDImages/es/original/DP102637.jpg\"/>"
      ],
      "text/plain": [
       "<IPython.core.display.Image object>"
      ]
     },
     "execution_count": 379,
     "metadata": {},
     "output_type": "execute_result"
    }
   ],
   "source": [
    "query = 'SELECT original_image_url as url FROM `bigquery-public-data.the_met.images` where object_id='+str(res[\"object_id\"][0])\n",
    "image = bq.Query(query).execute().result().to_dataframe()\n",
    "Image(url=image.get('url')[0])"
   ]
  }
 ],
 "metadata": {
  "kernelspec": {
   "display_name": "Python 2",
   "language": "python",
   "name": "python2"
  },
  "language_info": {
   "codemirror_mode": {
    "name": "ipython",
    "version": 2
   },
   "file_extension": ".py",
   "mimetype": "text/x-python",
   "name": "python",
   "nbconvert_exporter": "python",
   "pygments_lexer": "ipython2",
   "version": "2.7.9"
  }
 },
 "nbformat": 4,
 "nbformat_minor": 2
}

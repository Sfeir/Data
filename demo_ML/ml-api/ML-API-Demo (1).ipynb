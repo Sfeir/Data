{
 "cells": [
  {
   "cell_type": "markdown",
   "metadata": {},
   "source": [
    "## Start configuration"
   ]
  },
  {
   "cell_type": "code",
   "execution_count": 3,
   "metadata": {
    "collapsed": false
   },
   "outputs": [],
   "source": [
    "import os\n",
    "os.environ['BUCKET'] = BUCKET\n",
    "os.environ['PROJECT'] = PROJECT_ID"
   ]
  },
  {
   "cell_type": "code",
   "execution_count": 15,
   "metadata": {
    "collapsed": true
   },
   "outputs": [],
   "source": [
    "from googleapiclient.discovery import build\n",
    "from IPython.display import Image\n",
    "from IPython.core.display import HTML"
   ]
  },
  {
   "cell_type": "markdown",
   "metadata": {},
   "source": [
    "# E-Commerce demo"
   ]
  },
  {
   "cell_type": "markdown",
   "metadata": {},
   "source": [
    "### Nettoyer les données d'un site e-commerce. Les photos ne correspondent pas aux annonces "
   ]
  },
  {
   "cell_type": "markdown",
   "metadata": {},
   "source": [
    "### Récupération des données dans BigQuery"
   ]
  },
  {
   "cell_type": "code",
   "execution_count": 5,
   "metadata": {
    "collapsed": true
   },
   "outputs": [],
   "source": [
    "%%bq query -n ecomerce\n",
    "SELECT description, tags, pictures FROM `sfeir-bucket.onBoardDemo.ad`"
   ]
  },
  {
   "cell_type": "code",
   "execution_count": 6,
   "metadata": {
    "collapsed": false,
    "hiddenCell": true
   },
   "outputs": [
    {
     "ename": "Exception",
     "evalue": "accessDenied: Access Denied: Table sfeir-bucket:onBoardDemo.ad: The user 881499317005-compute@developer.gserviceaccount.com does not have permission to query table sfeir-bucket:onBoardDemo.ad.",
     "output_type": "error",
     "traceback": [
      "\u001b[0;31m\u001b[0m",
      "\u001b[0;31mException\u001b[0mTraceback (most recent call last)",
      "\u001b[0;32m<ipython-input-6-4550cdf76ed5>\u001b[0m in \u001b[0;36m<module>\u001b[0;34m()\u001b[0m\n\u001b[0;32m----> 1\u001b[0;31m \u001b[0mdataCommerce\u001b[0m \u001b[0;34m=\u001b[0m \u001b[0mecomerce\u001b[0m\u001b[0;34m.\u001b[0m\u001b[0mexecute\u001b[0m\u001b[0;34m(\u001b[0m\u001b[0moutput_options\u001b[0m\u001b[0;34m=\u001b[0m\u001b[0mbq\u001b[0m\u001b[0;34m.\u001b[0m\u001b[0mQueryOutput\u001b[0m\u001b[0;34m.\u001b[0m\u001b[0mdataframe\u001b[0m\u001b[0;34m(\u001b[0m\u001b[0;34m)\u001b[0m\u001b[0;34m)\u001b[0m\u001b[0;34m.\u001b[0m\u001b[0mresult\u001b[0m\u001b[0;34m(\u001b[0m\u001b[0;34m)\u001b[0m\u001b[0;34m\u001b[0m\u001b[0m\n\u001b[0m\u001b[1;32m      2\u001b[0m \u001b[0mdataCommerce\u001b[0m\u001b[0;34m\u001b[0m\u001b[0m\n",
      "\u001b[0;32m/usr/local/lib/python2.7/dist-packages/google/datalab/bigquery/_query.pyc\u001b[0m in \u001b[0;36mexecute\u001b[0;34m(self, output_options, sampling, context, query_params)\u001b[0m\n\u001b[1;32m    335\u001b[0m     \"\"\"\n\u001b[1;32m    336\u001b[0m     return self.execute_async(output_options, sampling=sampling, context=context,\n\u001b[0;32m--> 337\u001b[0;31m                               query_params=query_params).wait()\n\u001b[0m",
      "\u001b[0;32m/usr/local/lib/python2.7/dist-packages/google/datalab/bigquery/_query.pyc\u001b[0m in \u001b[0;36mexecute_async\u001b[0;34m(self, output_options, sampling, context, query_params)\u001b[0m\n\u001b[1;32m    279\u001b[0m       \u001b[0;32mexcept\u001b[0m \u001b[0mKeyError\u001b[0m\u001b[0;34m:\u001b[0m\u001b[0;34m\u001b[0m\u001b[0m\n\u001b[1;32m    280\u001b[0m         \u001b[0;31m# The query was in error\u001b[0m\u001b[0;34m\u001b[0m\u001b[0;34m\u001b[0m\u001b[0m\n\u001b[0;32m--> 281\u001b[0;31m         \u001b[0;32mraise\u001b[0m \u001b[0mException\u001b[0m\u001b[0;34m(\u001b[0m\u001b[0m_utils\u001b[0m\u001b[0;34m.\u001b[0m\u001b[0mformat_query_errors\u001b[0m\u001b[0;34m(\u001b[0m\u001b[0mquery_result\u001b[0m\u001b[0;34m[\u001b[0m\u001b[0;34m'status'\u001b[0m\u001b[0;34m]\u001b[0m\u001b[0;34m[\u001b[0m\u001b[0;34m'errors'\u001b[0m\u001b[0;34m]\u001b[0m\u001b[0;34m)\u001b[0m\u001b[0;34m)\u001b[0m\u001b[0;34m\u001b[0m\u001b[0m\n\u001b[0m\u001b[1;32m    282\u001b[0m \u001b[0;34m\u001b[0m\u001b[0m\n\u001b[1;32m    283\u001b[0m     \u001b[0mexecute_job\u001b[0m \u001b[0;34m=\u001b[0m \u001b[0m_query_job\u001b[0m\u001b[0;34m.\u001b[0m\u001b[0mQueryJob\u001b[0m\u001b[0;34m(\u001b[0m\u001b[0mjob_id\u001b[0m\u001b[0;34m,\u001b[0m \u001b[0mtable_name\u001b[0m\u001b[0;34m,\u001b[0m \u001b[0msql\u001b[0m\u001b[0;34m,\u001b[0m \u001b[0mcontext\u001b[0m\u001b[0;34m=\u001b[0m\u001b[0mcontext\u001b[0m\u001b[0;34m)\u001b[0m\u001b[0;34m\u001b[0m\u001b[0m\n",
      "\u001b[0;31mException\u001b[0m: accessDenied: Access Denied: Table sfeir-bucket:onBoardDemo.ad: The user 881499317005-compute@developer.gserviceaccount.com does not have permission to query table sfeir-bucket:onBoardDemo.ad."
     ]
    }
   ],
   "source": [
    "dataCommerce = ecomerce.execute(output_options=bq.QueryOutput.dataframe()).result()\n",
    "dataCommerce"
   ]
  },
  {
   "cell_type": "code",
   "execution_count": 6,
   "metadata": {
    "collapsed": false
   },
   "outputs": [],
   "source": [
    "adNumber = 0\n",
    "description = dataCommerce.description[adNumber]\n",
    "tags = dataCommerce.tags[adNumber].split(',')\n",
    "pictures = dataCommerce.pictures[adNumber].split(',')"
   ]
  },
  {
   "cell_type": "code",
   "execution_count": 7,
   "metadata": {
    "collapsed": false
   },
   "outputs": [
    {
     "name": "stdout",
     "output_type": "stream",
     "text": [
      "Description:\n",
      " Inspired by road trips and bikers the Black coat embellished with embroidery on the back. The striped lining ensures a cosy look for the winter.\n",
      "Fabric: 100% cotton \n",
      "Lining: 33% acrylic, 22% wool, 15% polyester, 10% alpaca, 10% polyamide, 10% mohair \n",
      "Trim: 100% fox fur \n",
      "Colour: Black/Army Black \n",
      "Made in Italy\n",
      "Tags:\n",
      " ['trench coat', 'black', 'luxury']\n"
     ]
    }
   ],
   "source": [
    "print(\"Description:\\n {}\".format(description))\n",
    "print(\"Tags:\\n {}\".format(tags))"
   ]
  },
  {
   "cell_type": "markdown",
   "metadata": {},
   "source": [
    "<img src=\"https://storage.googleapis.com/onboard-demo/handbag-images/coat_1.jpeg\" />\n",
    "<img src=\"https://storage.googleapis.com/onboard-demo/handbag-images/coat_2.jpeg\" />\n",
    "<img src=\"https://storage.googleapis.com/onboard-demo/handbag-images/coat_3.jpeg\" />\n",
    "\n"
   ]
  },
  {
   "cell_type": "code",
   "execution_count": 8,
   "metadata": {
    "collapsed": false
   },
   "outputs": [
    {
     "name": "stdout",
     "output_type": "stream",
     "text": [
      "gs://onboard-demo/handbag-images/coat_1.jpeg\n",
      "image=gs://onboard-demo/handbag-images/coat_1.jpeg contains : black with score 0.9573391\n",
      "image=gs://onboard-demo/handbag-images/coat_1.jpeg contains : trench coat with score 0.80833113\n",
      "gs://onboard-demo/handbag-images/coat_2.jpeg\n",
      "image=gs://onboard-demo/handbag-images/coat_2.jpeg contains : trench coat with score 0.862021\n",
      "gs://onboard-demo/handbag-images/coat_3.jpeg\n"
     ]
    }
   ],
   "source": [
    "# Running Vision API to find images that have a specific search term\n",
    "import base64\n",
    "\n",
    "for IMAGE in pictures:\n",
    "  print (IMAGE)\n",
    "  vservice = build('vision', 'v1', developerKey=APIKEY)\n",
    "  request = vservice.images().annotate(body={\n",
    "        'requests': [{\n",
    "                'image': {\n",
    "                    'source': {\n",
    "                        'gcs_image_uri': IMAGE\n",
    "                    }\n",
    "                },\n",
    "                'features': [{\n",
    "                    'type': 'LABEL_DETECTION',\n",
    "                    'maxResults': 10,\n",
    "                }]\n",
    "            }],\n",
    "        })\n",
    "  outputs = request.execute(num_retries=3)\n",
    "  #print (outputs)\n",
    "  if 'responses' in outputs and len(outputs['responses']) > 0 and 'labelAnnotations' in outputs['responses'][0]:\n",
    "    for output in outputs['responses'][0]['labelAnnotations']:\n",
    "      for term in tags:\n",
    "        if term in output['description']:\n",
    "          print (u\"image={} contains : {} with score {}\".format(IMAGE, output['description'],output['score']))"
   ]
  },
  {
   "cell_type": "markdown",
   "metadata": {},
   "source": [
    "<h2> Finding specific text in a corpus of scanned documents </h2>"
   ]
  },
  {
   "cell_type": "code",
   "execution_count": 9,
   "metadata": {
    "collapsed": false
   },
   "outputs": [
    {
     "name": "stdout",
     "output_type": "stream",
     "text": [
      "['https://storage.googleapis.com/cloud-training-demos-ml/unstructured/photos/snapshot1.png', 'https://storage.googleapis.com/cloud-training-demos-ml/unstructured/photos/snapshot2.png', 'https://storage.googleapis.com/cloud-training-demos-ml/unstructured/photos/snapshot5.png']\n"
     ]
    }
   ],
   "source": [
    "import subprocess\n",
    "images = [\"https://storage.googleapis.com/cloud-training-demos-ml/unstructured/photos/snapshot1.png\",\n",
    "\"https://storage.googleapis.com/cloud-training-demos-ml/unstructured/photos/snapshot2.png\",\n",
    "\"https://storage.googleapis.com/cloud-training-demos-ml/unstructured/photos/snapshot5.png\"]\n",
    "print (images)"
   ]
  },
  {
   "cell_type": "markdown",
   "metadata": {},
   "source": [
    "Here are a few of the images we are going to search.\n",
    "\n",
    "<img src=\"https://storage.googleapis.com/cloud-training-demos-ml/unstructured/photos/snapshot1.png\" />\n",
    "<img src=\"https://storage.googleapis.com/cloud-training-demos-ml/unstructured/photos/snapshot2.png\" />\n",
    "<img src=\"https://storage.googleapis.com/cloud-training-demos-ml/unstructured/photos/snapshot5.png\" />"
   ]
  },
  {
   "cell_type": "code",
   "execution_count": 21,
   "metadata": {
    "collapsed": false
   },
   "outputs": [
    {
     "name": "stdout",
     "output_type": "stream",
     "text": [
      "image=https://storage.googleapis.com/cloud-training-demos-ml/unstructured/photos/snapshot2.png contains the following text: 1321\n",
      "<img src=\"https://storage.googleapis.com/cloud-training-demos-ml/unstructured/photos/snapshot2.png\" />\n",
      "image=https://storage.googleapis.com/cloud-training-demos-ml/unstructured/photos/snapshot2.png contains the following text: 1321\n",
      "<img src=\"https://storage.googleapis.com/cloud-training-demos-ml/unstructured/photos/snapshot2.png\" />\n"
     ]
    }
   ],
   "source": [
    "# Running Vision API to find images that have a specific search term\n",
    "import base64\n",
    "\n",
    "SEARCH_TERM = u\"1321\"\n",
    "\n",
    "for IMAGE in images:\n",
    "  #print (IMAGE)\n",
    "  vservice = build('vision', 'v1', developerKey=APIKEY)\n",
    "  request = vservice.images().annotate(body={\n",
    "        'requests': [{\n",
    "                'image': {\n",
    "                    'source': {\n",
    "                        'image_uri': IMAGE\n",
    "                    }\n",
    "                },\n",
    "                'features': [{\n",
    "                    'type': 'TEXT_DETECTION',\n",
    "                    'maxResults': 100,\n",
    "                }]\n",
    "            }],\n",
    "        })\n",
    "  outputs = request.execute(num_retries=3)\n",
    "  #print(outputs)\n",
    "  if 'responses' in outputs and len(outputs['responses']) > 0 and 'textAnnotations' in outputs['responses'][0]:\n",
    "    for output in outputs['responses'][0]['textAnnotations']:\n",
    "       if SEARCH_TERM in output['description']:\n",
    "          print (u\"image={} contains the following text: {}\".format(IMAGE,SEARCH_TERM))\n"
   ]
  },
  {
   "cell_type": "markdown",
   "metadata": {},
   "source": [
    "<img src=\"https://storage.googleapis.com/cloud-training-demos-ml/unstructured/photos/snapshot2.png\" />\n"
   ]
  }
 ],
 "metadata": {
  "kernelspec": {
   "display_name": "Python 2",
   "language": "python",
   "name": "python2"
  },
  "language_info": {
   "codemirror_mode": {
    "name": "ipython",
    "version": 2
   },
   "file_extension": ".py",
   "mimetype": "text/x-python",
   "name": "python",
   "nbconvert_exporter": "python",
   "pygments_lexer": "ipython2",
   "version": "2.7.12"
  }
 },
 "nbformat": 4,
 "nbformat_minor": 2
}
